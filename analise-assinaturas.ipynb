{
 "cells": [
  {
   "cell_type": "markdown",
   "metadata": {},
   "source": [
    "Primeiro vamos importar as bibliotecas necessárias para a análise"
   ]
  },
  {
   "cell_type": "code",
   "execution_count": 1,
   "metadata": {},
   "outputs": [],
   "source": [
    "import pandas as pd\n",
    "import matplotlib.pyplot as plt\n",
    "import seaborn as sns"
   ]
  },
  {
   "cell_type": "markdown",
   "metadata": {},
   "source": [
    "Temos um conjunto de dados pequeno com o total de gasto com a assinatura de um certo serviço online.\n",
    "Vamos analisá-lo para verificar: \n",
    "<ul>\n",
    "<li>as 3 ocupações mais comum</li>\n",
    "<li>o total de receita por ano com as assinaturas</li>\n",
    "<li>plotar um gráfico com a ocupação e sexo</li>\n",
    "</ul>\n"
   ]
  },
  {
   "cell_type": "markdown",
   "metadata": {},
   "source": [
    "Primeiro vamos importar o conjunto de dados, salvar na variável assinaturas e mostrar os 5 primeiros registros"
   ]
  },
  {
   "cell_type": "code",
   "execution_count": 2,
   "metadata": {},
   "outputs": [
    {
     "data": {
      "text/html": [
       "<div>\n",
       "<style scoped>\n",
       "    .dataframe tbody tr th:only-of-type {\n",
       "        vertical-align: middle;\n",
       "    }\n",
       "\n",
       "    .dataframe tbody tr th {\n",
       "        vertical-align: top;\n",
       "    }\n",
       "\n",
       "    .dataframe thead th {\n",
       "        text-align: right;\n",
       "    }\n",
       "</style>\n",
       "<table border=\"1\" class=\"dataframe\">\n",
       "  <thead>\n",
       "    <tr style=\"text-align: right;\">\n",
       "      <th></th>\n",
       "      <th>Username</th>\n",
       "      <th>Nome</th>\n",
       "      <th>Sexo</th>\n",
       "      <th>Data_Nascimento</th>\n",
       "      <th>Ocupação</th>\n",
       "      <th>Assinatura</th>\n",
       "      <th>Total_Gasto</th>\n",
       "    </tr>\n",
       "  </thead>\n",
       "  <tbody>\n",
       "    <tr>\n",
       "      <th>0</th>\n",
       "      <td>Neave1959</td>\n",
       "      <td>Mrs Anna \\t     Sharp</td>\n",
       "      <td>feminino</td>\n",
       "      <td>02/02/1970</td>\n",
       "      <td>Engenheiro de Dados</td>\n",
       "      <td>18/09/2020</td>\n",
       "      <td>140.04</td>\n",
       "    </tr>\n",
       "    <tr>\n",
       "      <th>1</th>\n",
       "      <td>Nicterims1993</td>\n",
       "      <td>Mrs \\tDaisy Anderson</td>\n",
       "      <td>masculino</td>\n",
       "      <td>05/07/1985</td>\n",
       "      <td>Engenheiro de Dados</td>\n",
       "      <td>29/01/2021</td>\n",
       "      <td>2417.81</td>\n",
       "    </tr>\n",
       "    <tr>\n",
       "      <th>2</th>\n",
       "      <td>Fouldlairity</td>\n",
       "      <td>Ms Zoe \\tPeacock</td>\n",
       "      <td>masculino</td>\n",
       "      <td>03/06/1964</td>\n",
       "      <td>Analista Financeiro</td>\n",
       "      <td>04/12/2020</td>\n",
       "      <td>51.95</td>\n",
       "    </tr>\n",
       "    <tr>\n",
       "      <th>3</th>\n",
       "      <td>Ancomettiody</td>\n",
       "      <td>Mrs Libby \\tWilliams</td>\n",
       "      <td>feminino</td>\n",
       "      <td>04/09/1974</td>\n",
       "      <td>Estatístico</td>\n",
       "      <td>21/11/2020</td>\n",
       "      <td>130.73</td>\n",
       "    </tr>\n",
       "    <tr>\n",
       "      <th>4</th>\n",
       "      <td>Onswis</td>\n",
       "      <td>Ms Katie \\tMetcalfe</td>\n",
       "      <td>feminino</td>\n",
       "      <td>01/07/1983</td>\n",
       "      <td>Engenheiro de Machine Learning</td>\n",
       "      <td>27/02/2021</td>\n",
       "      <td>1778.72</td>\n",
       "    </tr>\n",
       "  </tbody>\n",
       "</table>\n",
       "</div>"
      ],
      "text/plain": [
       "        Username                      Nome       Sexo Data_Nascimento  \\\n",
       "0      Neave1959     Mrs Anna \\t     Sharp   feminino      02/02/1970   \n",
       "1  Nicterims1993    Mrs \\tDaisy Anderson    masculino      05/07/1985   \n",
       "2   Fouldlairity          Ms Zoe \\tPeacock  masculino      03/06/1964   \n",
       "3   Ancomettiody    Mrs Libby \\tWilliams     feminino      04/09/1974   \n",
       "4         Onswis       Ms Katie \\tMetcalfe   feminino      01/07/1983   \n",
       "\n",
       "                         Ocupação  Assinatura  Total_Gasto   \n",
       "0             Engenheiro de Dados  18/09/2020        140.04  \n",
       "1             Engenheiro de Dados  29/01/2021       2417.81  \n",
       "2             Analista Financeiro  04/12/2020         51.95  \n",
       "3                     Estatístico  21/11/2020        130.73  \n",
       "4  Engenheiro de Machine Learning  27/02/2021       1778.72  "
      ]
     },
     "execution_count": 2,
     "metadata": {},
     "output_type": "execute_result"
    }
   ],
   "source": [
    "assinaturas = pd.read_csv(\"assinaturas.csv\", sep=';')\n",
    "assinaturas.head()"
   ]
  },
  {
   "cell_type": "markdown",
   "metadata": {},
   "source": [
    "Verificando os tipos dos atributos"
   ]
  },
  {
   "cell_type": "code",
   "execution_count": 3,
   "metadata": {},
   "outputs": [
    {
     "data": {
      "text/plain": [
       "Username            object\n",
       "Nome                object\n",
       "Sexo                object\n",
       "Data_Nascimento     object\n",
       "Ocupação            object\n",
       "Assinatura          object\n",
       "Total_Gasto        float64\n",
       "dtype: object"
      ]
     },
     "execution_count": 3,
     "metadata": {},
     "output_type": "execute_result"
    }
   ],
   "source": [
    "assinaturas.dtypes"
   ]
  },
  {
   "cell_type": "markdown",
   "metadata": {},
   "source": [
    "Verificar se existem dados ausentes - se houver, imprime True, caso contrário, False"
   ]
  },
  {
   "cell_type": "code",
   "execution_count": 4,
   "metadata": {},
   "outputs": [
    {
     "data": {
      "text/plain": [
       "Username           False\n",
       "Nome               False\n",
       "Sexo               False\n",
       "Data_Nascimento    False\n",
       "Ocupação           False\n",
       "Assinatura         False\n",
       "Total_Gasto        False\n",
       "dtype: bool"
      ]
     },
     "execution_count": 4,
     "metadata": {},
     "output_type": "execute_result"
    }
   ],
   "source": [
    "assinaturas.isnull().any()"
   ]
  },
  {
   "cell_type": "markdown",
   "metadata": {},
   "source": [
    "Vamos agora alterar \"Assinatura\" de objeto para string e \"Total_Gasto\" para float"
   ]
  },
  {
   "cell_type": "code",
   "execution_count": 5,
   "metadata": {},
   "outputs": [],
   "source": [
    "assinaturas['Assinatura'] = assinaturas['Assinatura'].convert_dtypes()\n",
    "assinaturas['Total_Gasto '] = assinaturas['Total_Gasto '].convert_dtypes(float)"
   ]
  },
  {
   "cell_type": "markdown",
   "metadata": {},
   "source": [
    "Verificando novamente os tipos de dados"
   ]
  },
  {
   "cell_type": "code",
   "execution_count": 6,
   "metadata": {},
   "outputs": [
    {
     "data": {
      "text/plain": [
       "Username            object\n",
       "Nome                object\n",
       "Sexo                object\n",
       "Data_Nascimento     object\n",
       "Ocupação            object\n",
       "Assinatura          string\n",
       "Total_Gasto        Float64\n",
       "dtype: object"
      ]
     },
     "execution_count": 6,
     "metadata": {},
     "output_type": "execute_result"
    }
   ],
   "source": [
    "assinaturas.dtypes"
   ]
  },
  {
   "cell_type": "markdown",
   "metadata": {},
   "source": [
    "Foi verificado que no atributo 'Total_Gasto', tem um espaço antes do últmo '. Sendo assim vamos renomear o atributo"
   ]
  },
  {
   "cell_type": "code",
   "execution_count": 7,
   "metadata": {},
   "outputs": [],
   "source": [
    "assinaturas.rename(columns={'Total_Gasto ': 'Total_Gasto'}, inplace=True)"
   ]
  },
  {
   "cell_type": "markdown",
   "metadata": {},
   "source": [
    "separando o ano de data_status e atribuindo a uma variável"
   ]
  },
  {
   "cell_type": "code",
   "execution_count": 8,
   "metadata": {},
   "outputs": [],
   "source": [
    "assinatura_separado = assinaturas.iloc[:, 5]\n",
    "assinaturas['Ano'] = pd.DatetimeIndex(assinatura_separado).year"
   ]
  },
  {
   "cell_type": "markdown",
   "metadata": {},
   "source": [
    "Mostrando os primeiros registros e verificando se foi criado o atributo 'Ano'"
   ]
  },
  {
   "cell_type": "code",
   "execution_count": 9,
   "metadata": {},
   "outputs": [
    {
     "data": {
      "text/html": [
       "<div>\n",
       "<style scoped>\n",
       "    .dataframe tbody tr th:only-of-type {\n",
       "        vertical-align: middle;\n",
       "    }\n",
       "\n",
       "    .dataframe tbody tr th {\n",
       "        vertical-align: top;\n",
       "    }\n",
       "\n",
       "    .dataframe thead th {\n",
       "        text-align: right;\n",
       "    }\n",
       "</style>\n",
       "<table border=\"1\" class=\"dataframe\">\n",
       "  <thead>\n",
       "    <tr style=\"text-align: right;\">\n",
       "      <th></th>\n",
       "      <th>Username</th>\n",
       "      <th>Nome</th>\n",
       "      <th>Sexo</th>\n",
       "      <th>Data_Nascimento</th>\n",
       "      <th>Ocupação</th>\n",
       "      <th>Assinatura</th>\n",
       "      <th>Total_Gasto</th>\n",
       "      <th>Ano</th>\n",
       "    </tr>\n",
       "  </thead>\n",
       "  <tbody>\n",
       "    <tr>\n",
       "      <th>0</th>\n",
       "      <td>Neave1959</td>\n",
       "      <td>Mrs Anna \\t     Sharp</td>\n",
       "      <td>feminino</td>\n",
       "      <td>02/02/1970</td>\n",
       "      <td>Engenheiro de Dados</td>\n",
       "      <td>18/09/2020</td>\n",
       "      <td>140.04</td>\n",
       "      <td>2020</td>\n",
       "    </tr>\n",
       "    <tr>\n",
       "      <th>1</th>\n",
       "      <td>Nicterims1993</td>\n",
       "      <td>Mrs \\tDaisy Anderson</td>\n",
       "      <td>masculino</td>\n",
       "      <td>05/07/1985</td>\n",
       "      <td>Engenheiro de Dados</td>\n",
       "      <td>29/01/2021</td>\n",
       "      <td>2417.81</td>\n",
       "      <td>2021</td>\n",
       "    </tr>\n",
       "    <tr>\n",
       "      <th>2</th>\n",
       "      <td>Fouldlairity</td>\n",
       "      <td>Ms Zoe \\tPeacock</td>\n",
       "      <td>masculino</td>\n",
       "      <td>03/06/1964</td>\n",
       "      <td>Analista Financeiro</td>\n",
       "      <td>04/12/2020</td>\n",
       "      <td>51.95</td>\n",
       "      <td>2020</td>\n",
       "    </tr>\n",
       "    <tr>\n",
       "      <th>3</th>\n",
       "      <td>Ancomettiody</td>\n",
       "      <td>Mrs Libby \\tWilliams</td>\n",
       "      <td>feminino</td>\n",
       "      <td>04/09/1974</td>\n",
       "      <td>Estatístico</td>\n",
       "      <td>21/11/2020</td>\n",
       "      <td>130.73</td>\n",
       "      <td>2020</td>\n",
       "    </tr>\n",
       "    <tr>\n",
       "      <th>4</th>\n",
       "      <td>Onswis</td>\n",
       "      <td>Ms Katie \\tMetcalfe</td>\n",
       "      <td>feminino</td>\n",
       "      <td>01/07/1983</td>\n",
       "      <td>Engenheiro de Machine Learning</td>\n",
       "      <td>27/02/2021</td>\n",
       "      <td>1778.72</td>\n",
       "      <td>2021</td>\n",
       "    </tr>\n",
       "  </tbody>\n",
       "</table>\n",
       "</div>"
      ],
      "text/plain": [
       "        Username                      Nome       Sexo Data_Nascimento  \\\n",
       "0      Neave1959     Mrs Anna \\t     Sharp   feminino      02/02/1970   \n",
       "1  Nicterims1993    Mrs \\tDaisy Anderson    masculino      05/07/1985   \n",
       "2   Fouldlairity          Ms Zoe \\tPeacock  masculino      03/06/1964   \n",
       "3   Ancomettiody    Mrs Libby \\tWilliams     feminino      04/09/1974   \n",
       "4         Onswis       Ms Katie \\tMetcalfe   feminino      01/07/1983   \n",
       "\n",
       "                         Ocupação  Assinatura  Total_Gasto   Ano  \n",
       "0             Engenheiro de Dados  18/09/2020       140.04  2020  \n",
       "1             Engenheiro de Dados  29/01/2021      2417.81  2021  \n",
       "2             Analista Financeiro  04/12/2020        51.95  2020  \n",
       "3                     Estatístico  21/11/2020       130.73  2020  \n",
       "4  Engenheiro de Machine Learning  27/02/2021      1778.72  2021  "
      ]
     },
     "execution_count": 9,
     "metadata": {},
     "output_type": "execute_result"
    }
   ],
   "source": [
    "assinaturas.head()"
   ]
  },
  {
   "cell_type": "markdown",
   "metadata": {},
   "source": [
    "Criando um novo conjunto de dados somente com os que vamos utilizar"
   ]
  },
  {
   "cell_type": "code",
   "execution_count": 22,
   "metadata": {},
   "outputs": [
    {
     "data": {
      "text/html": [
       "<div>\n",
       "<style scoped>\n",
       "    .dataframe tbody tr th:only-of-type {\n",
       "        vertical-align: middle;\n",
       "    }\n",
       "\n",
       "    .dataframe tbody tr th {\n",
       "        vertical-align: top;\n",
       "    }\n",
       "\n",
       "    .dataframe thead th {\n",
       "        text-align: right;\n",
       "    }\n",
       "</style>\n",
       "<table border=\"1\" class=\"dataframe\">\n",
       "  <thead>\n",
       "    <tr style=\"text-align: right;\">\n",
       "      <th></th>\n",
       "      <th>Ocupação</th>\n",
       "      <th>Total_Gasto</th>\n",
       "      <th>Ano</th>\n",
       "    </tr>\n",
       "  </thead>\n",
       "  <tbody>\n",
       "    <tr>\n",
       "      <th>0</th>\n",
       "      <td>Engenheiro de Dados</td>\n",
       "      <td>140.04</td>\n",
       "      <td>2020</td>\n",
       "    </tr>\n",
       "    <tr>\n",
       "      <th>1</th>\n",
       "      <td>Engenheiro de Dados</td>\n",
       "      <td>2417.81</td>\n",
       "      <td>2021</td>\n",
       "    </tr>\n",
       "    <tr>\n",
       "      <th>2</th>\n",
       "      <td>Analista Financeiro</td>\n",
       "      <td>51.95</td>\n",
       "      <td>2020</td>\n",
       "    </tr>\n",
       "    <tr>\n",
       "      <th>3</th>\n",
       "      <td>Estatístico</td>\n",
       "      <td>130.73</td>\n",
       "      <td>2020</td>\n",
       "    </tr>\n",
       "    <tr>\n",
       "      <th>4</th>\n",
       "      <td>Engenheiro de Machine Learning</td>\n",
       "      <td>1778.72</td>\n",
       "      <td>2021</td>\n",
       "    </tr>\n",
       "    <tr>\n",
       "      <th>5</th>\n",
       "      <td>Gerente de Tecnologia</td>\n",
       "      <td>1034.74</td>\n",
       "      <td>2022</td>\n",
       "    </tr>\n",
       "    <tr>\n",
       "      <th>6</th>\n",
       "      <td>Analista de Inteligência de Mercado</td>\n",
       "      <td>1320.04</td>\n",
       "      <td>2022</td>\n",
       "    </tr>\n",
       "    <tr>\n",
       "      <th>7</th>\n",
       "      <td>Web Designer</td>\n",
       "      <td>3464.72</td>\n",
       "      <td>2022</td>\n",
       "    </tr>\n",
       "    <tr>\n",
       "      <th>8</th>\n",
       "      <td>Analista de Inteligência de Mercado</td>\n",
       "      <td>1257.45</td>\n",
       "      <td>2021</td>\n",
       "    </tr>\n",
       "    <tr>\n",
       "      <th>9</th>\n",
       "      <td>Arquiteto de Dados</td>\n",
       "      <td>771.99</td>\n",
       "      <td>2020</td>\n",
       "    </tr>\n",
       "    <tr>\n",
       "      <th>10</th>\n",
       "      <td>Analista de RH</td>\n",
       "      <td>1021.77</td>\n",
       "      <td>2020</td>\n",
       "    </tr>\n",
       "    <tr>\n",
       "      <th>11</th>\n",
       "      <td>Arquiteto de Dados</td>\n",
       "      <td>234.76</td>\n",
       "      <td>2020</td>\n",
       "    </tr>\n",
       "    <tr>\n",
       "      <th>12</th>\n",
       "      <td>Engenheiro de Dados</td>\n",
       "      <td>628.07</td>\n",
       "      <td>2020</td>\n",
       "    </tr>\n",
       "    <tr>\n",
       "      <th>13</th>\n",
       "      <td>Cientista de Dados</td>\n",
       "      <td>1294.51</td>\n",
       "      <td>2022</td>\n",
       "    </tr>\n",
       "    <tr>\n",
       "      <th>14</th>\n",
       "      <td>Desenvolvedor Java</td>\n",
       "      <td>2181.81</td>\n",
       "      <td>2022</td>\n",
       "    </tr>\n",
       "    <tr>\n",
       "      <th>15</th>\n",
       "      <td>Desenvolvedor de Chatbots</td>\n",
       "      <td>1142.29</td>\n",
       "      <td>2021</td>\n",
       "    </tr>\n",
       "    <tr>\n",
       "      <th>16</th>\n",
       "      <td>Engenheiro de Inteligência Artificial</td>\n",
       "      <td>453.67</td>\n",
       "      <td>2020</td>\n",
       "    </tr>\n",
       "    <tr>\n",
       "      <th>17</th>\n",
       "      <td>Especialista em Cloud Computing</td>\n",
       "      <td>1107.94</td>\n",
       "      <td>2022</td>\n",
       "    </tr>\n",
       "    <tr>\n",
       "      <th>18</th>\n",
       "      <td>Engenheiro Elétrico</td>\n",
       "      <td>2867.68</td>\n",
       "      <td>2022</td>\n",
       "    </tr>\n",
       "    <tr>\n",
       "      <th>19</th>\n",
       "      <td>Engenheiro de Dados</td>\n",
       "      <td>40.31</td>\n",
       "      <td>2020</td>\n",
       "    </tr>\n",
       "    <tr>\n",
       "      <th>20</th>\n",
       "      <td>Arquiteto de Dados</td>\n",
       "      <td>643.68</td>\n",
       "      <td>2021</td>\n",
       "    </tr>\n",
       "    <tr>\n",
       "      <th>21</th>\n",
       "      <td>Engenheiro de Dados</td>\n",
       "      <td>253.85</td>\n",
       "      <td>2020</td>\n",
       "    </tr>\n",
       "    <tr>\n",
       "      <th>22</th>\n",
       "      <td>Engenheiro de Dados</td>\n",
       "      <td>108.81</td>\n",
       "      <td>2020</td>\n",
       "    </tr>\n",
       "    <tr>\n",
       "      <th>23</th>\n",
       "      <td>Cientista de Dados</td>\n",
       "      <td>421.19</td>\n",
       "      <td>2021</td>\n",
       "    </tr>\n",
       "    <tr>\n",
       "      <th>24</th>\n",
       "      <td>Cientista de Dados</td>\n",
       "      <td>551.68</td>\n",
       "      <td>2020</td>\n",
       "    </tr>\n",
       "    <tr>\n",
       "      <th>25</th>\n",
       "      <td>Cientista de Dados</td>\n",
       "      <td>47.29</td>\n",
       "      <td>2020</td>\n",
       "    </tr>\n",
       "    <tr>\n",
       "      <th>26</th>\n",
       "      <td>Cientista de Dados</td>\n",
       "      <td>404.6</td>\n",
       "      <td>2020</td>\n",
       "    </tr>\n",
       "    <tr>\n",
       "      <th>27</th>\n",
       "      <td>Cientista de Dados</td>\n",
       "      <td>1572.12</td>\n",
       "      <td>2021</td>\n",
       "    </tr>\n",
       "    <tr>\n",
       "      <th>28</th>\n",
       "      <td>Cientista de Dados</td>\n",
       "      <td>3081.33</td>\n",
       "      <td>2022</td>\n",
       "    </tr>\n",
       "    <tr>\n",
       "      <th>29</th>\n",
       "      <td>Cientista de Dados</td>\n",
       "      <td>200.54</td>\n",
       "      <td>2020</td>\n",
       "    </tr>\n",
       "  </tbody>\n",
       "</table>\n",
       "</div>"
      ],
      "text/plain": [
       "                                 Ocupação  Total_Gasto   Ano\n",
       "0                     Engenheiro de Dados       140.04  2020\n",
       "1                     Engenheiro de Dados      2417.81  2021\n",
       "2                     Analista Financeiro        51.95  2020\n",
       "3                             Estatístico       130.73  2020\n",
       "4          Engenheiro de Machine Learning      1778.72  2021\n",
       "5                   Gerente de Tecnologia      1034.74  2022\n",
       "6     Analista de Inteligência de Mercado      1320.04  2022\n",
       "7                            Web Designer      3464.72  2022\n",
       "8     Analista de Inteligência de Mercado      1257.45  2021\n",
       "9                      Arquiteto de Dados       771.99  2020\n",
       "10                         Analista de RH      1021.77  2020\n",
       "11                     Arquiteto de Dados       234.76  2020\n",
       "12                    Engenheiro de Dados       628.07  2020\n",
       "13                     Cientista de Dados      1294.51  2022\n",
       "14                     Desenvolvedor Java      2181.81  2022\n",
       "15              Desenvolvedor de Chatbots      1142.29  2021\n",
       "16  Engenheiro de Inteligência Artificial       453.67  2020\n",
       "17        Especialista em Cloud Computing      1107.94  2022\n",
       "18                    Engenheiro Elétrico      2867.68  2022\n",
       "19                    Engenheiro de Dados        40.31  2020\n",
       "20                     Arquiteto de Dados       643.68  2021\n",
       "21                    Engenheiro de Dados       253.85  2020\n",
       "22                    Engenheiro de Dados       108.81  2020\n",
       "23                     Cientista de Dados       421.19  2021\n",
       "24                     Cientista de Dados       551.68  2020\n",
       "25                     Cientista de Dados        47.29  2020\n",
       "26                     Cientista de Dados        404.6  2020\n",
       "27                     Cientista de Dados      1572.12  2021\n",
       "28                     Cientista de Dados      3081.33  2022\n",
       "29                     Cientista de Dados       200.54  2020"
      ]
     },
     "execution_count": 22,
     "metadata": {},
     "output_type": "execute_result"
    }
   ],
   "source": [
    "dataset = assinaturas[['Ocupação', 'Total_Gasto', 'Ano']]\n",
    "dataset"
   ]
  },
  {
   "cell_type": "markdown",
   "metadata": {},
   "source": [
    "### Analisando os Dados"
   ]
  },
  {
   "cell_type": "markdown",
   "metadata": {},
   "source": [
    "1. Relacionando as 3 ocupações mais comuns dos assinantes"
   ]
  },
  {
   "cell_type": "code",
   "execution_count": 88,
   "metadata": {},
   "outputs": [
    {
     "data": {
      "text/plain": [
       "Cientista de Dados     8\n",
       "Engenheiro de Dados    6\n",
       "Arquiteto de Dados     3\n",
       "Name: Ocupação, dtype: int64"
      ]
     },
     "execution_count": 88,
     "metadata": {},
     "output_type": "execute_result"
    }
   ],
   "source": [
    "top3_ocupacoes = dataset['Ocupação'].value_counts().sort_values(ascending=False).head(3)\n",
    "top3_ocupacoes"
   ]
  },
  {
   "cell_type": "code",
   "execution_count": 116,
   "metadata": {},
   "outputs": [
    {
     "data": {
      "image/png": "[encoded data removed]",
      "text/plain": [
       "<Figure size 432x288 with 1 Axes>"
      ]
     },
     "metadata": {
      "needs_background": "light"
     },
     "output_type": "display_data"
    }
   ],
   "source": [
    "x = ['Cientista de Dados', 'Engenheiro de Dados', 'Arquiteto de Dados']\n",
    "y = [8, 6, 3]\n",
    "plt.barh(x, y, color='g', alpha=0.65)\n",
    "plt.show()"
   ]
  },
  {
   "cell_type": "markdown",
   "metadata": {},
   "source": [
    "2. Agora vamos criar o gráfico com o total de receita gerada com as assinaturas do serviço, de acordo com a ocupação e por ano"
   ]
  },
  {
   "cell_type": "code",
   "execution_count": 41,
   "metadata": {},
   "outputs": [
    {
     "data": {
      "image/png": "[encoded data removed]",
      "text/plain": [
       "<Figure size 1152x648 with 1 Axes>"
      ]
     },
     "metadata": {
      "needs_background": "light"
     },
     "output_type": "display_data"
    }
   ],
   "source": [
    "totalGasto = dataset['Total_Gasto']\n",
    "figure = plt.subplots(figsize=(16, 9))\n",
    "sns.barplot(x='Total_Gasto', y='Ocupação', hue='Ano', data = dataset)\n",
    "plt.show()"
   ]
  },
  {
   "cell_type": "markdown",
   "metadata": {},
   "source": [
    "3. Total de receita gerada por ano"
   ]
  },
  {
   "cell_type": "markdown",
   "metadata": {},
   "source": [
    "Primeiro vamos agrupar o total de gasto por ano"
   ]
  },
  {
   "cell_type": "code",
   "execution_count": 49,
   "metadata": {},
   "outputs": [
    {
     "data": {
      "text/html": [
       "<div>\n",
       "<style scoped>\n",
       "    .dataframe tbody tr th:only-of-type {\n",
       "        vertical-align: middle;\n",
       "    }\n",
       "\n",
       "    .dataframe tbody tr th {\n",
       "        vertical-align: top;\n",
       "    }\n",
       "\n",
       "    .dataframe thead th {\n",
       "        text-align: right;\n",
       "    }\n",
       "</style>\n",
       "<table border=\"1\" class=\"dataframe\">\n",
       "  <thead>\n",
       "    <tr style=\"text-align: right;\">\n",
       "      <th></th>\n",
       "      <th>Total_Gasto</th>\n",
       "    </tr>\n",
       "    <tr>\n",
       "      <th>Ano</th>\n",
       "      <th></th>\n",
       "    </tr>\n",
       "  </thead>\n",
       "  <tbody>\n",
       "    <tr>\n",
       "      <th>2020</th>\n",
       "      <td>5040.06</td>\n",
       "    </tr>\n",
       "    <tr>\n",
       "      <th>2021</th>\n",
       "      <td>9233.26</td>\n",
       "    </tr>\n",
       "    <tr>\n",
       "      <th>2022</th>\n",
       "      <td>16352.77</td>\n",
       "    </tr>\n",
       "  </tbody>\n",
       "</table>\n",
       "</div>"
      ],
      "text/plain": [
       "      Total_Gasto\n",
       "Ano              \n",
       "2020      5040.06\n",
       "2021      9233.26\n",
       "2022     16352.77"
      ]
     },
     "execution_count": 49,
     "metadata": {},
     "output_type": "execute_result"
    }
   ],
   "source": [
    "grupo = dataset.groupby(by='Ano').sum()\n",
    "grupo"
   ]
  },
  {
   "cell_type": "markdown",
   "metadata": {},
   "source": [
    "vamos agora selecionar os anos"
   ]
  },
  {
   "cell_type": "code",
   "execution_count": 72,
   "metadata": {},
   "outputs": [
    {
     "data": {
      "text/plain": [
       "array([2020, 2021, 2022], dtype=int64)"
      ]
     },
     "execution_count": 72,
     "metadata": {},
     "output_type": "execute_result"
    }
   ],
   "source": [
    "anos = dataset.iloc[:, -1].unique()\n",
    "anos"
   ]
  },
  {
   "cell_type": "markdown",
   "metadata": {},
   "source": [
    "Por úlimo criamos o plot com o total de receita por ano"
   ]
  },
  {
   "cell_type": "code",
   "execution_count": 73,
   "metadata": {},
   "outputs": [
    {
     "data": {
      "text/plain": [
       "<AxesSubplot:ylabel='Total_Gasto'>"
      ]
     },
     "execution_count": 73,
     "metadata": {},
     "output_type": "execute_result"
    },
    {
     "data": {
      "image/png": "[encoded data removed]",
      "text/plain": [
       "<Figure size 432x288 with 1 Axes>"
      ]
     },
     "metadata": {
      "needs_background": "light"
     },
     "output_type": "display_data"
    }
   ],
   "source": [
    "sns.barplot(x=anos, y = 'Total_Gasto', data=grupo)"
   ]
  },
  {
   "cell_type": "markdown",
   "metadata": {},
   "source": [
    "4. Gráfico de acordo com a ocupação e sexo"
   ]
  },
  {
   "cell_type": "code",
   "execution_count": 87,
   "metadata": {},
   "outputs": [
    {
     "data": {
      "text/plain": [
       "<AxesSubplot:xlabel='Ocupação', ylabel='count'>"
      ]
     },
     "execution_count": 87,
     "metadata": {},
     "output_type": "execute_result"
    },
    {
     "data": {
      "image/png": "[encoded data removed]",
      "text/plain": [
       "<Figure size 1440x648 with 1 Axes>"
      ]
     },
     "metadata": {
      "needs_background": "light"
     },
     "output_type": "display_data"
    }
   ],
   "source": [
    "plt.close()\n",
    "figure, ax = plt.subplots(figsize=(20, 9))\n",
    "ax.tick_params(axis='x', rotation = 30)\n",
    "sns.countplot(x = 'Ocupação', hue = 'Sexo', data=assinaturas)"
   ]
  }
 ],
 "metadata": {
  "kernelspec": {
   "display_name": "Python 3.10.1 64-bit",
   "language": "python",
   "name": "python3"
  },
  "language_info": {
   "codemirror_mode": {
    "name": "ipython",
    "version": 3
   },
   "file_extension": ".py",
   "mimetype": "text/x-python",
   "name": "python",
   "nbconvert_exporter": "python",
   "pygments_lexer": "ipython3",
   "version": "3.10.1"
  },
  "orig_nbformat": 4,
  "vscode": {
   "interpreter": {
    "hash": "92e90bd6c5a94ac116b32daed143846700409151323ad0aa8c589766ff7ac504"
   }
  }
 },
 "nbformat": 4,
 "nbformat_minor": 2
}
